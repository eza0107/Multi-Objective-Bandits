{
 "cells": [
  {
   "cell_type": "code",
   "execution_count": 1,
   "id": "39236e2a",
   "metadata": {},
   "outputs": [
    {
     "name": "stdout",
     "output_type": "stream",
     "text": [
      "2.6206008878857308\n"
     ]
    },
    {
     "data": {
      "text/plain": [
       "14"
      ]
     },
     "execution_count": 1,
     "metadata": {},
     "output_type": "execute_result"
    }
   ],
   "source": [
    "import matplotlib.pyplot as plt\n",
    "from matplotlib.pyplot import figure\n",
    "\n",
    "import numpy as np\n",
    "import random\n",
    "import math\n",
    "def newton(N):\n",
    "    e = 2.71828\n",
    "    n = 1\n",
    "    a = 1\n",
    "    err = math.pow(10,-N)\n",
    "    while(e-a>err):\n",
    "        t = 1 + 1/n\n",
    "        a = math.pow(t,n)\n",
    "        n+=1\n",
    "    print(a)\n",
    "    return n\n",
    "newton(1)"
   ]
  },
  {
   "cell_type": "code",
   "execution_count": 17,
   "id": "64e3da97",
   "metadata": {},
   "outputs": [
    {
     "name": "stdout",
     "output_type": "stream",
     "text": [
      "[0.62034452 1.83838393]\n"
     ]
    }
   ],
   "source": [
    "import scipy.optimize as opt\n",
    "from numpy import exp\n",
    "\n",
    "def f(variables) :\n",
    "    (x,y) = variables\n",
    "    first_eq = x + y**2 - 4\n",
    "    second_eq = exp(x) + x*y - 3\n",
    "    return [first_eq, second_eq]\n",
    "\n",
    "solution = opt.fsolve(f, (0.1, 1)) # fsolve(equations, X_0)\n",
    "print(solution)\n",
    "\n",
    "# [ 0.62034452  1.83838393]"
   ]
  },
  {
   "cell_type": "code",
   "execution_count": 21,
   "id": "3943b3aa",
   "metadata": {},
   "outputs": [
    {
     "name": "stdout",
     "output_type": "stream",
     "text": [
      "[0.50040825 1.00210314]\n"
     ]
    }
   ],
   "source": [
    "# implementing fsolve directly with 2 variables\n",
    "import math\n",
    "import scipy.optimize\n",
    "import numpy as np\n",
    "y = 5.455\n",
    "x = -4.348\n",
    "R = np.array([0,4,9,10])\n",
    "T = np.array([0,-1,-4,-10])\n",
    "def w_plus(t, reward):\n",
    "    temp = np.exp(reward/t)\n",
    "    temp = temp/np.sum(temp)\n",
    "    return temp\n",
    "def w_minus(t, threat):\n",
    "    temp = np.exp(threat/t)\n",
    "    temp = temp/np.sum(temp)\n",
    "    return temp\n",
    "def f(variables) :\n",
    "    (w,tau) = variables\n",
    "    w_p = w_plus(tau, R)\n",
    "    w_m = w_minus(tau, T)\n",
    "    weighted_sum = w*w_p + (1-w)*w_m\n",
    "    \n",
    "    first_eq = np.dot(weighted_sum, R) - y\n",
    "    second_eq = np.dot(weighted_sum, T) - x\n",
    "    return [first_eq, second_eq]\n",
    "\n",
    "solution = scipy.optimize.fsolve(f, (0.7, 2)) # fsolve(equations, X_0)\n",
    "print(solution)"
   ]
  },
  {
   "cell_type": "code",
   "execution_count": 20,
   "id": "e68d7ca5",
   "metadata": {},
   "outputs": [
    {
     "name": "stdout",
     "output_type": "stream",
     "text": [
      "[0.50040825 1.00210314]\n"
     ]
    }
   ],
   "source": [
    "# here do the tracing out the three curves starting at the same point\n",
    "# start with running epsilon greedy\n",
    "\n"
   ]
  }
 ],
 "metadata": {
  "kernelspec": {
   "display_name": "Python 3",
   "language": "python",
   "name": "python3"
  },
  "language_info": {
   "codemirror_mode": {
    "name": "ipython",
    "version": 3
   },
   "file_extension": ".py",
   "mimetype": "text/x-python",
   "name": "python",
   "nbconvert_exporter": "python",
   "pygments_lexer": "ipython3",
   "version": "3.8.8"
  }
 },
 "nbformat": 4,
 "nbformat_minor": 5
}
