{
 "cells": [
  {
   "cell_type": "code",
   "execution_count": 36,
   "id": "7a96adf2-e450-4d19-b577-6d74da6e6662",
   "metadata": {},
   "outputs": [
    {
     "name": "stdout",
     "output_type": "stream",
     "text": [
      "[[4.57323096]\n",
      " [4.56072102]\n",
      " [2.34301027]\n",
      " [2.46608964]\n",
      " [2.62273431]]\n",
      "[[4.56072102]\n",
      " [2.34301027]\n",
      " [2.46608964]\n",
      " [2.62273431]\n",
      " [4.57323096]]\n",
      "[[5.         1.46900701 0.53773702]\n",
      " [1.46900701 0.78179143 0.34074473]\n",
      " [0.53773702 0.34074473 1.99780854]]\n",
      "[[0.]\n",
      " [0.]\n",
      " [0.]]\n",
      "[[0.]\n",
      " [0.]\n",
      " [0.]]\n"
     ]
    },
    {
     "data": {
      "text/plain": [
       "249.48320225528647"
      ]
     },
     "execution_count": 36,
     "metadata": {},
     "output_type": "execute_result"
    }
   ],
   "source": [
    "import math\n",
    "import matplotlib.pyplot as plt\n",
    "from matplotlib.pyplot import figure\n",
    "import numpy as np\n",
    "\n",
    "x = np.random.uniform(5, size = (5,1))\n",
    "print(x)\n",
    "y = np.zeros((5,1))\n",
    "for i in range(5):\n",
    "    if i < 4:\n",
    "        y[i] = x[i+1]\n",
    "    else:\n",
    "        y[i] = x[0]\n",
    "print(y)\n",
    "\n",
    "cosx = np.cos(x)\n",
    "cosy = np.cos(y)\n",
    "sinx = np.sin(x)\n",
    "siny = np.sin(y)\n",
    "A = np.concatenate((np.ones((5,1)), np.multiply(cosx, cosy), np.multiply(sinx, siny)), axis = 1)\n",
    "zero = np.zeros((3,1))\n",
    "B = np.dot(A.T,A)\n",
    "print(B)\n",
    "print(zero)\n",
    "X = np.linalg.solve(B,zero)\n",
    "print(X)\n",
    " \n",
    "def null(A, eps=1e-15):\n",
    "    u, s, vh = np.linalg.svd(A)\n",
    "    null_space = np.compress(s <= eps, vh, axis=0)\n",
    "    return null_space.T    \n",
    "null(B, 1e-15)\n",
    "\n",
    "def solution(U):\n",
    "    # find the eigenvalues and eigenvector of U(transpose).U\n",
    "    e_vals, e_vecs = np.linalg.eig(np.dot(U.T, U))  \n",
    "    # extract the eigenvector (column) associated with the minimum eigenvalue\n",
    "    return e_vecs[:, np.argmin(e_vals)] \n",
    "solution(B)\n",
    "\n",
    "def checker(a,b,c):\n",
    "    aa = 1/a\n",
    "    bb = 1/b\n",
    "    cc = 1/c\n",
    "    return aa**3 + bb**3 + c**3 - (aa+bb)*(bb+cc)*(cc+aa)\n",
    "checker(solution(B)[0], solution(B)[1], solution(B)[2])"
   ]
  },
  {
   "cell_type": "code",
   "execution_count": 2,
   "id": "429dbacd-b543-4849-9b32-af0cf6aede48",
   "metadata": {},
   "outputs": [],
   "source": [
    "import math\n",
    "import matplotlib.pyplot as plt\n",
    "from matplotlib.pyplot import figure\n",
    "import numpy as np\n",
    "\n"
   ]
  }
 ],
 "metadata": {
  "kernelspec": {
   "display_name": "Python 3",
   "language": "python",
   "name": "python3"
  },
  "language_info": {
   "codemirror_mode": {
    "name": "ipython",
    "version": 3
   },
   "file_extension": ".py",
   "mimetype": "text/x-python",
   "name": "python",
   "nbconvert_exporter": "python",
   "pygments_lexer": "ipython3",
   "version": "3.8.8"
  }
 },
 "nbformat": 4,
 "nbformat_minor": 5
}
